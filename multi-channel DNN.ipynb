{
 "cells": [
  {
   "cell_type": "code",
   "execution_count": 1,
   "metadata": {},
   "outputs": [],
   "source": [
    "import gc\n",
    "import time\n",
    "import random\n",
    "import graphviz\n",
    "import warnings\n",
    "import tensorflow\n",
    "import numpy as np\n",
    "import pandas as pd\n",
    "import tensorflow as tf\n",
    "import pydot_ng as pydot\n",
    "from tensorflow.keras.layers import Dense, Activation, Dropout, Flatten, Input\n",
    "from tensorflow.keras.layers import Embedding, Conv1D, MaxPooling1D, GlobalMaxPooling1D, GlobalAveragePooling1D\n",
    "from tensorflow.keras.utils import plot_model\n",
    "from sklearn.preprocessing import StandardScaler\n",
    "from sklearn.model_selection import train_test_split\n",
    "from tensorflow.keras.layers import concatenate\n",
    "from tensorflow.keras.models import Model, Sequential \n",
    "from sklearn.metrics import roc_auc_score\n",
    "from sklearn.metrics import classification_report\n",
    "\n",
    "tensorflow.random.set_seed(2020)\n",
    "np.random.seed(2020)\n",
    "random.seed(2020)\n",
    "warnings.filterwarnings('ignore')\n",
    "pd.set_option('display.max_columns', 150)\n",
    "pd.set_option('display.max_rows', 150)"
   ]
  },
  {
   "cell_type": "code",
   "execution_count": 2,
   "metadata": {},
   "outputs": [
    {
     "data": {
      "text/html": [
       "<div>\n",
       "<style scoped>\n",
       "    .dataframe tbody tr th:only-of-type {\n",
       "        vertical-align: middle;\n",
       "    }\n",
       "\n",
       "    .dataframe tbody tr th {\n",
       "        vertical-align: top;\n",
       "    }\n",
       "\n",
       "    .dataframe thead th {\n",
       "        text-align: right;\n",
       "    }\n",
       "</style>\n",
       "<table border=\"1\" class=\"dataframe\">\n",
       "  <thead>\n",
       "    <tr style=\"text-align: right;\">\n",
       "      <th></th>\n",
       "      <th>入口站编号</th>\n",
       "      <th>出口站编号</th>\n",
       "      <th>车型代码</th>\n",
       "      <th>里程</th>\n",
       "      <th>总轴数</th>\n",
       "      <th>轴型及轴重</th>\n",
       "      <th>车货总重</th>\n",
       "      <th>限重</th>\n",
       "      <th>超限率</th>\n",
       "      <th>是否绿色通道车辆代码</th>\n",
       "      <th>是否ETC车道代码</th>\n",
       "      <th>行驶时间</th>\n",
       "      <th>通过车道的平均速度(km/h)</th>\n",
       "      <th>entryweek</th>\n",
       "      <th>entryday</th>\n",
       "      <th>entryhour</th>\n",
       "      <th>exitweek</th>\n",
       "      <th>exitday</th>\n",
       "      <th>exithour</th>\n",
       "      <th>车型代码超限率均值</th>\n",
       "      <th>车型代码超限率中位数</th>\n",
       "      <th>车型代码超限率最小值</th>\n",
       "      <th>车型代码超限率最大值</th>\n",
       "      <th>车型代码超限率标准差</th>\n",
       "      <th>车型代码行驶时间均值</th>\n",
       "      <th>车型代码行驶时间中位数</th>\n",
       "      <th>车型代码行驶时间最小值</th>\n",
       "      <th>车型代码行驶时间最大值</th>\n",
       "      <th>车型代码行驶时间标准差</th>\n",
       "      <th>车型代码平均速度均值</th>\n",
       "      <th>车型代码平均速度中位数</th>\n",
       "      <th>车型代码平均速度最小值</th>\n",
       "      <th>车型代码平均速度最大值</th>\n",
       "      <th>车型代码平均速度标准差</th>\n",
       "      <th>出口站编号平均速度均值</th>\n",
       "      <th>出口站编号平均速度中位数</th>\n",
       "      <th>出口站编号平均速度最小值</th>\n",
       "      <th>出口站编号平均速度最大值</th>\n",
       "      <th>出口站编号平均速度标准差</th>\n",
       "      <th>入口站编号平均速度均值</th>\n",
       "      <th>入口站编号平均速度中位数</th>\n",
       "      <th>入口站编号平均速度最小值</th>\n",
       "      <th>入口站编号平均速度最大值</th>\n",
       "      <th>入口站编号平均速度标准差</th>\n",
       "      <th>出口站编号行驶时间均值</th>\n",
       "      <th>出口站编号行驶时间中位数</th>\n",
       "      <th>出口站编号行驶时间最小值</th>\n",
       "      <th>出口站编号行驶时间最大值</th>\n",
       "      <th>出口站编号行驶时间标准差</th>\n",
       "      <th>入口站编号行驶时间均值</th>\n",
       "      <th>入口站编号行驶时间中位数</th>\n",
       "      <th>入口站编号行驶时间最小值</th>\n",
       "      <th>入口站编号行驶时间最大值</th>\n",
       "      <th>入口站编号行驶时间标准差</th>\n",
       "      <th>出口站编号超限率均值</th>\n",
       "      <th>出口站编号超限率中位数</th>\n",
       "      <th>出口站编号超限率最小值</th>\n",
       "      <th>出口站编号超限率最大值</th>\n",
       "      <th>出口站编号超限率标准差</th>\n",
       "      <th>入口站编号超限率均值</th>\n",
       "      <th>入口站编号超限率中位数</th>\n",
       "      <th>入口站编号超限率最小值</th>\n",
       "      <th>入口站编号超限率最大值</th>\n",
       "      <th>入口站编号超限率标准差</th>\n",
       "      <th>出口站编号车货总重均值</th>\n",
       "      <th>出口站编号车货总重中位数</th>\n",
       "      <th>出口站编号车货总重最小值</th>\n",
       "      <th>出口站编号车货总重最大值</th>\n",
       "      <th>出口站编号车货总重标准差</th>\n",
       "      <th>入口站编号车货总重均值</th>\n",
       "      <th>入口站编号车货总重中位数</th>\n",
       "      <th>入口站编号车货总重最小值</th>\n",
       "      <th>入口站编号车货总重最大值</th>\n",
       "      <th>入口站编号车货总重标准差</th>\n",
       "      <th>车型代码车货总重均值</th>\n",
       "      <th>车型代码车货总重中位数</th>\n",
       "      <th>车型代码车货总重最小值</th>\n",
       "      <th>车型代码车货总重最大值</th>\n",
       "      <th>车型代码车货总重标准差</th>\n",
       "      <th>入口站编号平均速度离差</th>\n",
       "      <th>出口站编号平均速度离差</th>\n",
       "      <th>入口站编号行驶时间离差</th>\n",
       "      <th>出口站编号行驶时间离差</th>\n",
       "      <th>入口站编号超限率离差</th>\n",
       "      <th>出口站编号超限率离差</th>\n",
       "      <th>入口站编号车货总重离差</th>\n",
       "      <th>出口站编号车货总重离差</th>\n",
       "      <th>车型代码平均速度离差</th>\n",
       "      <th>车型代码行驶时间离差</th>\n",
       "      <th>车型代码超限率离差</th>\n",
       "      <th>车型代码车货总重离差</th>\n",
       "    </tr>\n",
       "  </thead>\n",
       "  <tbody>\n",
       "    <tr>\n",
       "      <th>0</th>\n",
       "      <td>18</td>\n",
       "      <td>313</td>\n",
       "      <td>1</td>\n",
       "      <td>118.189</td>\n",
       "      <td>2</td>\n",
       "      <td>23</td>\n",
       "      <td>1450</td>\n",
       "      <td>14000</td>\n",
       "      <td>-89.64</td>\n",
       "      <td>0</td>\n",
       "      <td>0</td>\n",
       "      <td>4724</td>\n",
       "      <td>1.501130</td>\n",
       "      <td>2</td>\n",
       "      <td>11</td>\n",
       "      <td>16</td>\n",
       "      <td>2</td>\n",
       "      <td>11</td>\n",
       "      <td>17</td>\n",
       "      <td>-88.4375</td>\n",
       "      <td>-88.9375</td>\n",
       "      <td>-98.25</td>\n",
       "      <td>129.375</td>\n",
       "      <td>2.697266</td>\n",
       "      <td>4108.0</td>\n",
       "      <td>1734.0</td>\n",
       "      <td>18.0</td>\n",
       "      <td>-1.0</td>\n",
       "      <td>8296.0</td>\n",
       "      <td>1.766602</td>\n",
       "      <td>1.732422</td>\n",
       "      <td>0.0</td>\n",
       "      <td>58.65625</td>\n",
       "      <td>0.733398</td>\n",
       "      <td>1.426758</td>\n",
       "      <td>1.459961</td>\n",
       "      <td>0.073853</td>\n",
       "      <td>2.617188</td>\n",
       "      <td>0.371826</td>\n",
       "      <td>2.425781</td>\n",
       "      <td>2.189453</td>\n",
       "      <td>0.014397</td>\n",
       "      <td>8.734375</td>\n",
       "      <td>1.016602</td>\n",
       "      <td>4604.0</td>\n",
       "      <td>3268.0</td>\n",
       "      <td>411.0</td>\n",
       "      <td>59616.0</td>\n",
       "      <td>5900.0</td>\n",
       "      <td>2922.0</td>\n",
       "      <td>919.0</td>\n",
       "      <td>95.0</td>\n",
       "      <td>-1.0</td>\n",
       "      <td>4484.0</td>\n",
       "      <td>-80.8125</td>\n",
       "      <td>-87.500</td>\n",
       "      <td>-94.4375</td>\n",
       "      <td>45.28125</td>\n",
       "      <td>18.328125</td>\n",
       "      <td>-83.75000</td>\n",
       "      <td>-88.5000</td>\n",
       "      <td>-97.5000</td>\n",
       "      <td>78.8125</td>\n",
       "      <td>15.835938</td>\n",
       "      <td>3774.0</td>\n",
       "      <td>1750.0</td>\n",
       "      <td>850.0</td>\n",
       "      <td>50752.0</td>\n",
       "      <td>6132.0</td>\n",
       "      <td>2876.0</td>\n",
       "      <td>1620.0</td>\n",
       "      <td>350.0</td>\n",
       "      <td>54496.0</td>\n",
       "      <td>4596.0</td>\n",
       "      <td>1624.0</td>\n",
       "      <td>1550.0</td>\n",
       "      <td>300.0</td>\n",
       "      <td>60736.0</td>\n",
       "      <td>447.75</td>\n",
       "      <td>0.502418</td>\n",
       "      <td>1.042029</td>\n",
       "      <td>8.244071</td>\n",
       "      <td>7.283448</td>\n",
       "      <td>0.131028</td>\n",
       "      <td>0.760806</td>\n",
       "      <td>5.135798</td>\n",
       "      <td>5.703782</td>\n",
       "      <td>0.793508</td>\n",
       "      <td>8.003029</td>\n",
       "      <td>-0.353110</td>\n",
       "      <td>4.605170</td>\n",
       "    </tr>\n",
       "    <tr>\n",
       "      <th>1</th>\n",
       "      <td>330</td>\n",
       "      <td>306</td>\n",
       "      <td>1</td>\n",
       "      <td>64.143</td>\n",
       "      <td>2</td>\n",
       "      <td>23</td>\n",
       "      <td>1450</td>\n",
       "      <td>14000</td>\n",
       "      <td>-89.64</td>\n",
       "      <td>0</td>\n",
       "      <td>0</td>\n",
       "      <td>2414</td>\n",
       "      <td>1.594275</td>\n",
       "      <td>2</td>\n",
       "      <td>11</td>\n",
       "      <td>16</td>\n",
       "      <td>2</td>\n",
       "      <td>11</td>\n",
       "      <td>17</td>\n",
       "      <td>-88.4375</td>\n",
       "      <td>-88.9375</td>\n",
       "      <td>-98.25</td>\n",
       "      <td>129.375</td>\n",
       "      <td>2.697266</td>\n",
       "      <td>4108.0</td>\n",
       "      <td>1734.0</td>\n",
       "      <td>18.0</td>\n",
       "      <td>-1.0</td>\n",
       "      <td>8296.0</td>\n",
       "      <td>1.766602</td>\n",
       "      <td>1.732422</td>\n",
       "      <td>0.0</td>\n",
       "      <td>58.65625</td>\n",
       "      <td>0.733398</td>\n",
       "      <td>1.499023</td>\n",
       "      <td>1.404297</td>\n",
       "      <td>0.044281</td>\n",
       "      <td>3.777344</td>\n",
       "      <td>0.556152</td>\n",
       "      <td>1.218750</td>\n",
       "      <td>1.245117</td>\n",
       "      <td>0.011101</td>\n",
       "      <td>2.544922</td>\n",
       "      <td>0.397949</td>\n",
       "      <td>5264.0</td>\n",
       "      <td>2856.0</td>\n",
       "      <td>913.0</td>\n",
       "      <td>-1.0</td>\n",
       "      <td>7768.0</td>\n",
       "      <td>11064.0</td>\n",
       "      <td>9056.0</td>\n",
       "      <td>272.0</td>\n",
       "      <td>-1.0</td>\n",
       "      <td>10864.0</td>\n",
       "      <td>-79.3750</td>\n",
       "      <td>-87.875</td>\n",
       "      <td>-94.6250</td>\n",
       "      <td>124.12500</td>\n",
       "      <td>25.234375</td>\n",
       "      <td>-45.96875</td>\n",
       "      <td>-79.0625</td>\n",
       "      <td>-94.3125</td>\n",
       "      <td>72.9375</td>\n",
       "      <td>46.218750</td>\n",
       "      <td>4064.0</td>\n",
       "      <td>1700.0</td>\n",
       "      <td>750.0</td>\n",
       "      <td>62752.0</td>\n",
       "      <td>7696.0</td>\n",
       "      <td>21440.0</td>\n",
       "      <td>3124.0</td>\n",
       "      <td>800.0</td>\n",
       "      <td>-1.0</td>\n",
       "      <td>22672.0</td>\n",
       "      <td>1624.0</td>\n",
       "      <td>1550.0</td>\n",
       "      <td>300.0</td>\n",
       "      <td>60736.0</td>\n",
       "      <td>447.75</td>\n",
       "      <td>1.417873</td>\n",
       "      <td>1.209223</td>\n",
       "      <td>-1.000000</td>\n",
       "      <td>-1.000000</td>\n",
       "      <td>2.358729</td>\n",
       "      <td>0.568151</td>\n",
       "      <td>7.422971</td>\n",
       "      <td>5.521461</td>\n",
       "      <td>0.870971</td>\n",
       "      <td>6.522093</td>\n",
       "      <td>-0.353110</td>\n",
       "      <td>4.605170</td>\n",
       "    </tr>\n",
       "    <tr>\n",
       "      <th>2</th>\n",
       "      <td>325</td>\n",
       "      <td>306</td>\n",
       "      <td>1</td>\n",
       "      <td>54.720</td>\n",
       "      <td>2</td>\n",
       "      <td>23</td>\n",
       "      <td>1750</td>\n",
       "      <td>14000</td>\n",
       "      <td>-87.50</td>\n",
       "      <td>0</td>\n",
       "      <td>0</td>\n",
       "      <td>1969</td>\n",
       "      <td>1.667445</td>\n",
       "      <td>2</td>\n",
       "      <td>11</td>\n",
       "      <td>16</td>\n",
       "      <td>2</td>\n",
       "      <td>11</td>\n",
       "      <td>17</td>\n",
       "      <td>-88.4375</td>\n",
       "      <td>-88.9375</td>\n",
       "      <td>-98.25</td>\n",
       "      <td>129.375</td>\n",
       "      <td>2.697266</td>\n",
       "      <td>4108.0</td>\n",
       "      <td>1734.0</td>\n",
       "      <td>18.0</td>\n",
       "      <td>-1.0</td>\n",
       "      <td>8296.0</td>\n",
       "      <td>1.766602</td>\n",
       "      <td>1.732422</td>\n",
       "      <td>0.0</td>\n",
       "      <td>58.65625</td>\n",
       "      <td>0.733398</td>\n",
       "      <td>1.499023</td>\n",
       "      <td>1.404297</td>\n",
       "      <td>0.044281</td>\n",
       "      <td>3.777344</td>\n",
       "      <td>0.556152</td>\n",
       "      <td>1.468750</td>\n",
       "      <td>1.380859</td>\n",
       "      <td>0.011719</td>\n",
       "      <td>3.812500</td>\n",
       "      <td>0.565918</td>\n",
       "      <td>5264.0</td>\n",
       "      <td>2856.0</td>\n",
       "      <td>913.0</td>\n",
       "      <td>-1.0</td>\n",
       "      <td>7768.0</td>\n",
       "      <td>3910.0</td>\n",
       "      <td>2152.0</td>\n",
       "      <td>525.0</td>\n",
       "      <td>-1.0</td>\n",
       "      <td>7612.0</td>\n",
       "      <td>-79.3750</td>\n",
       "      <td>-87.875</td>\n",
       "      <td>-94.6250</td>\n",
       "      <td>124.12500</td>\n",
       "      <td>25.234375</td>\n",
       "      <td>-83.18750</td>\n",
       "      <td>-88.3125</td>\n",
       "      <td>-94.6250</td>\n",
       "      <td>55.0000</td>\n",
       "      <td>17.687500</td>\n",
       "      <td>4064.0</td>\n",
       "      <td>1700.0</td>\n",
       "      <td>750.0</td>\n",
       "      <td>62752.0</td>\n",
       "      <td>7696.0</td>\n",
       "      <td>2936.0</td>\n",
       "      <td>1640.0</td>\n",
       "      <td>750.0</td>\n",
       "      <td>56800.0</td>\n",
       "      <td>4984.0</td>\n",
       "      <td>1624.0</td>\n",
       "      <td>1550.0</td>\n",
       "      <td>300.0</td>\n",
       "      <td>60736.0</td>\n",
       "      <td>447.75</td>\n",
       "      <td>1.331873</td>\n",
       "      <td>1.301020</td>\n",
       "      <td>-1.000000</td>\n",
       "      <td>-1.000000</td>\n",
       "      <td>-0.207639</td>\n",
       "      <td>-0.980829</td>\n",
       "      <td>4.700480</td>\n",
       "      <td>3.912023</td>\n",
       "      <td>0.937090</td>\n",
       "      <td>5.459586</td>\n",
       "      <td>0.362905</td>\n",
       "      <td>5.298317</td>\n",
       "    </tr>\n",
       "  </tbody>\n",
       "</table>\n",
       "</div>"
      ],
      "text/plain": [
       "   入口站编号  出口站编号  车型代码       里程  总轴数  轴型及轴重  车货总重     限重    超限率  是否绿色通道车辆代码  \\\n",
       "0     18    313     1  118.189    2     23  1450  14000 -89.64           0   \n",
       "1    330    306     1   64.143    2     23  1450  14000 -89.64           0   \n",
       "2    325    306     1   54.720    2     23  1750  14000 -87.50           0   \n",
       "\n",
       "   是否ETC车道代码  行驶时间  通过车道的平均速度(km/h)  entryweek  entryday  entryhour  exitweek  \\\n",
       "0          0  4724         1.501130          2        11         16         2   \n",
       "1          0  2414         1.594275          2        11         16         2   \n",
       "2          0  1969         1.667445          2        11         16         2   \n",
       "\n",
       "   exitday  exithour  车型代码超限率均值  车型代码超限率中位数  车型代码超限率最小值  车型代码超限率最大值  \\\n",
       "0       11        17   -88.4375    -88.9375      -98.25     129.375   \n",
       "1       11        17   -88.4375    -88.9375      -98.25     129.375   \n",
       "2       11        17   -88.4375    -88.9375      -98.25     129.375   \n",
       "\n",
       "   车型代码超限率标准差  车型代码行驶时间均值  车型代码行驶时间中位数  车型代码行驶时间最小值  车型代码行驶时间最大值  车型代码行驶时间标准差  \\\n",
       "0    2.697266      4108.0       1734.0         18.0         -1.0       8296.0   \n",
       "1    2.697266      4108.0       1734.0         18.0         -1.0       8296.0   \n",
       "2    2.697266      4108.0       1734.0         18.0         -1.0       8296.0   \n",
       "\n",
       "   车型代码平均速度均值  车型代码平均速度中位数  车型代码平均速度最小值  车型代码平均速度最大值  车型代码平均速度标准差  \\\n",
       "0    1.766602     1.732422          0.0     58.65625     0.733398   \n",
       "1    1.766602     1.732422          0.0     58.65625     0.733398   \n",
       "2    1.766602     1.732422          0.0     58.65625     0.733398   \n",
       "\n",
       "   出口站编号平均速度均值  出口站编号平均速度中位数  出口站编号平均速度最小值  出口站编号平均速度最大值  出口站编号平均速度标准差  \\\n",
       "0     1.426758      1.459961      0.073853      2.617188      0.371826   \n",
       "1     1.499023      1.404297      0.044281      3.777344      0.556152   \n",
       "2     1.499023      1.404297      0.044281      3.777344      0.556152   \n",
       "\n",
       "   入口站编号平均速度均值  入口站编号平均速度中位数  入口站编号平均速度最小值  入口站编号平均速度最大值  入口站编号平均速度标准差  \\\n",
       "0     2.425781      2.189453      0.014397      8.734375      1.016602   \n",
       "1     1.218750      1.245117      0.011101      2.544922      0.397949   \n",
       "2     1.468750      1.380859      0.011719      3.812500      0.565918   \n",
       "\n",
       "   出口站编号行驶时间均值  出口站编号行驶时间中位数  出口站编号行驶时间最小值  出口站编号行驶时间最大值  出口站编号行驶时间标准差  \\\n",
       "0       4604.0        3268.0         411.0       59616.0        5900.0   \n",
       "1       5264.0        2856.0         913.0          -1.0        7768.0   \n",
       "2       5264.0        2856.0         913.0          -1.0        7768.0   \n",
       "\n",
       "   入口站编号行驶时间均值  入口站编号行驶时间中位数  入口站编号行驶时间最小值  入口站编号行驶时间最大值  入口站编号行驶时间标准差  \\\n",
       "0       2922.0         919.0          95.0          -1.0        4484.0   \n",
       "1      11064.0        9056.0         272.0          -1.0       10864.0   \n",
       "2       3910.0        2152.0         525.0          -1.0        7612.0   \n",
       "\n",
       "   出口站编号超限率均值  出口站编号超限率中位数  出口站编号超限率最小值  出口站编号超限率最大值  出口站编号超限率标准差  入口站编号超限率均值  \\\n",
       "0    -80.8125      -87.500     -94.4375     45.28125    18.328125   -83.75000   \n",
       "1    -79.3750      -87.875     -94.6250    124.12500    25.234375   -45.96875   \n",
       "2    -79.3750      -87.875     -94.6250    124.12500    25.234375   -83.18750   \n",
       "\n",
       "   入口站编号超限率中位数  入口站编号超限率最小值  入口站编号超限率最大值  入口站编号超限率标准差  出口站编号车货总重均值  \\\n",
       "0     -88.5000     -97.5000      78.8125    15.835938       3774.0   \n",
       "1     -79.0625     -94.3125      72.9375    46.218750       4064.0   \n",
       "2     -88.3125     -94.6250      55.0000    17.687500       4064.0   \n",
       "\n",
       "   出口站编号车货总重中位数  出口站编号车货总重最小值  出口站编号车货总重最大值  出口站编号车货总重标准差  入口站编号车货总重均值  \\\n",
       "0        1750.0         850.0       50752.0        6132.0       2876.0   \n",
       "1        1700.0         750.0       62752.0        7696.0      21440.0   \n",
       "2        1700.0         750.0       62752.0        7696.0       2936.0   \n",
       "\n",
       "   入口站编号车货总重中位数  入口站编号车货总重最小值  入口站编号车货总重最大值  入口站编号车货总重标准差  车型代码车货总重均值  \\\n",
       "0        1620.0         350.0       54496.0        4596.0      1624.0   \n",
       "1        3124.0         800.0          -1.0       22672.0      1624.0   \n",
       "2        1640.0         750.0       56800.0        4984.0      1624.0   \n",
       "\n",
       "   车型代码车货总重中位数  车型代码车货总重最小值  车型代码车货总重最大值  车型代码车货总重标准差  入口站编号平均速度离差  \\\n",
       "0       1550.0        300.0      60736.0       447.75     0.502418   \n",
       "1       1550.0        300.0      60736.0       447.75     1.417873   \n",
       "2       1550.0        300.0      60736.0       447.75     1.331873   \n",
       "\n",
       "   出口站编号平均速度离差  入口站编号行驶时间离差  出口站编号行驶时间离差  入口站编号超限率离差  出口站编号超限率离差  入口站编号车货总重离差  \\\n",
       "0     1.042029     8.244071     7.283448    0.131028    0.760806     5.135798   \n",
       "1     1.209223    -1.000000    -1.000000    2.358729    0.568151     7.422971   \n",
       "2     1.301020    -1.000000    -1.000000   -0.207639   -0.980829     4.700480   \n",
       "\n",
       "   出口站编号车货总重离差  车型代码平均速度离差  车型代码行驶时间离差  车型代码超限率离差  车型代码车货总重离差  \n",
       "0     5.703782    0.793508    8.003029  -0.353110    4.605170  \n",
       "1     5.521461    0.870971    6.522093  -0.353110    4.605170  \n",
       "2     3.912023    0.937090    5.459586   0.362905    5.298317  "
      ]
     },
     "metadata": {},
     "output_type": "display_data"
    }
   ],
   "source": [
    "data = pd.read_pickle('cleandata/fe_clean1345.pkl')\n",
    "droptime = ['入口日期及时间','出口日期及时间']\n",
    "data.drop(droptime, axis=1, inplace=True)\n",
    "display(data.head(3))"
   ]
  },
  {
   "cell_type": "code",
   "execution_count": 3,
   "metadata": {},
   "outputs": [],
   "source": [
    "cat_feature = ['入口站编号', '出口站编号', '车型代码', '轴型及轴重', \n",
    "               'entryweek', 'entryday', 'entryhour', 'exitweek', 'exitday', 'exithour']\n",
    "\n",
    "time_feature = ['entryweek', 'entryday', 'entryhour', 'exitweek', 'exitday', 'exithour']\n",
    "\n",
    "base_feature = ['里程', '总轴数', '车货总重', '限重', '超限率', '是否ETC车道代码', '行驶时间', '通过车道的平均速度(km/h)']\n",
    "\n",
    "target = '是否绿色通道车辆代码'\n",
    "\n",
    "real_feature = [i for i in data.columns if i not in cat_feature and i != target and i not in base_feature]"
   ]
  },
  {
   "cell_type": "code",
   "execution_count": 4,
   "metadata": {},
   "outputs": [
    {
     "name": "stdout",
     "output_type": "stream",
     "text": [
      "number of features:.152\n",
      "['车型代码超限率均值', '车型代码超限率中位数', '车型代码超限率最小值', '车型代码超限率最大值', '车型代码超限率标准差', '车型代码行驶时间均值', '车型代码行驶时间中位数', '车型代码行驶时间最小值', '车型代码行驶时间最大值', '车型代码行驶时间标准差', '车型代码平均速度均值', '车型代码平均速度中位数', '车型代码平均速度最小值', '车型代码平均速度最大值', '车型代码平均速度标准差', '出口站编号平均速度均值', '出口站编号平均速度中位数', '出口站编号平均速度最小值', '出口站编号平均速度最大值', '出口站编号平均速度标准差', '入口站编号平均速度均值', '入口站编号平均速度中位数', '入口站编号平均速度最小值', '入口站编号平均速度最大值', '入口站编号平均速度标准差', '出口站编号行驶时间均值', '出口站编号行驶时间中位数', '出口站编号行驶时间最小值', '出口站编号行驶时间最大值', '出口站编号行驶时间标准差', '入口站编号行驶时间均值', '入口站编号行驶时间中位数', '入口站编号行驶时间最小值', '入口站编号行驶时间最大值', '入口站编号行驶时间标准差', '出口站编号超限率均值', '出口站编号超限率中位数', '出口站编号超限率最小值', '出口站编号超限率最大值', '出口站编号超限率标准差', '入口站编号超限率均值', '入口站编号超限率中位数', '入口站编号超限率最小值', '入口站编号超限率最大值', '入口站编号超限率标准差', '出口站编号车货总重均值', '出口站编号车货总重中位数', '出口站编号车货总重最小值', '出口站编号车货总重最大值', '出口站编号车货总重标准差', '入口站编号车货总重均值', '入口站编号车货总重中位数', '入口站编号车货总重最小值', '入口站编号车货总重最大值', '入口站编号车货总重标准差', '车型代码车货总重均值', '车型代码车货总重中位数', '车型代码车货总重最小值', '车型代码车货总重最大值', '车型代码车货总重标准差', '入口站编号平均速度离差', '出口站编号平均速度离差', '入口站编号行驶时间离差', '出口站编号行驶时间离差', '入口站编号超限率离差', '出口站编号超限率离差', '入口站编号车货总重离差', '出口站编号车货总重离差', '车型代码平均速度离差', '车型代码行驶时间离差', '车型代码超限率离差', '车型代码车货总重离差']\n"
     ]
    }
   ],
   "source": [
    "print(\"number of features:.{}\".format(len(real_feature + base_feature + real_feature)))\n",
    "print(real_feature)"
   ]
  },
  {
   "cell_type": "code",
   "execution_count": 5,
   "metadata": {},
   "outputs": [
    {
     "name": "stdout",
     "output_type": "stream",
     "text": [
      "train length: 581696, test length: 581697\n"
     ]
    }
   ],
   "source": [
    "X = data[base_feature + cat_feature + real_feature]\n",
    "y = data[target]\n",
    "xtrain, xtest, ytrain, ytest = train_test_split(X, y, test_size=0.5, random_state=2020)\n",
    "print(\"train length: {}, test length: {}\".format(len(xtrain), len(xtest)))"
   ]
  },
  {
   "cell_type": "code",
   "execution_count": 6,
   "metadata": {},
   "outputs": [
    {
     "data": {
      "text/plain": [
       "80"
      ]
     },
     "execution_count": 6,
     "metadata": {},
     "output_type": "execute_result"
    }
   ],
   "source": [
    "del data;gc.collect()"
   ]
  },
  {
   "cell_type": "markdown",
   "metadata": {},
   "source": [
    "### Model 1"
   ]
  },
  {
   "cell_type": "code",
   "execution_count": 7,
   "metadata": {},
   "outputs": [],
   "source": [
    "trn_cat = xtrain[cat_feature]\n",
    "tst_cat = xtest[cat_feature]\n",
    "\n",
    "trn_real = xtrain[base_feature + real_feature]\n",
    "tst_real = xtest[base_feature + real_feature]"
   ]
  },
  {
   "cell_type": "code",
   "execution_count": 8,
   "metadata": {},
   "outputs": [],
   "source": [
    "sds_real = StandardScaler()\n",
    "trn_real = sds_real.fit_transform(trn_real)\n",
    "tst_real = sds_real.transform(tst_real)"
   ]
  },
  {
   "cell_type": "code",
   "execution_count": 9,
   "metadata": {},
   "outputs": [],
   "source": [
    "input_catLen = trn_cat.values.shape[1]\n",
    "input_numLen = trn_real.shape[1]\n",
    "\n",
    "size_embedding = 5000"
   ]
  },
  {
   "cell_type": "code",
   "execution_count": 10,
   "metadata": {},
   "outputs": [
    {
     "name": "stdout",
     "output_type": "stream",
     "text": [
      "Model: \"model\"\n",
      "__________________________________________________________________________________________________\n",
      "Layer (type)                    Output Shape         Param #     Connected to                     \n",
      "==================================================================================================\n",
      "input_2 (InputLayer)            [(None, 10)]         0                                            \n",
      "__________________________________________________________________________________________________\n",
      "input_1 (InputLayer)            [(None, 80)]         0                                            \n",
      "__________________________________________________________________________________________________\n",
      "embedding (Embedding)           (None, 10, 36)       180000      input_2[0][0]                    \n",
      "__________________________________________________________________________________________________\n",
      "dense (Dense)                   (None, 256)          20736       input_1[0][0]                    \n",
      "__________________________________________________________________________________________________\n",
      "conv1d (Conv1D)                 (None, 4, 32)        8096        embedding[0][0]                  \n",
      "__________________________________________________________________________________________________\n",
      "dense_1 (Dense)                 (None, 128)          32896       dense[0][0]                      \n",
      "__________________________________________________________________________________________________\n",
      "dropout (Dropout)               (None, 4, 32)        0           conv1d[0][0]                     \n",
      "__________________________________________________________________________________________________\n",
      "dense_2 (Dense)                 (None, 64)           8256        dense_1[0][0]                    \n",
      "__________________________________________________________________________________________________\n",
      "max_pooling1d (MaxPooling1D)    (None, 2, 32)        0           dropout[0][0]                    \n",
      "__________________________________________________________________________________________________\n",
      "dense_3 (Dense)                 (None, 32)           2080        dense_2[0][0]                    \n",
      "__________________________________________________________________________________________________\n",
      "flatten (Flatten)               (None, 64)           0           max_pooling1d[0][0]              \n",
      "__________________________________________________________________________________________________\n",
      "concatenate (Concatenate)       (None, 96)           0           dense_3[0][0]                    \n",
      "                                                                 flatten[0][0]                    \n",
      "__________________________________________________________________________________________________\n",
      "dense_4 (Dense)                 (None, 256)          24832       concatenate[0][0]                \n",
      "__________________________________________________________________________________________________\n",
      "dense_5 (Dense)                 (None, 16)           4112        dense_4[0][0]                    \n",
      "__________________________________________________________________________________________________\n",
      "dense_6 (Dense)                 (None, 1)            17          dense_5[0][0]                    \n",
      "==================================================================================================\n",
      "Total params: 281,025\n",
      "Trainable params: 281,025\n",
      "Non-trainable params: 0\n",
      "__________________________________________________________________________________________________\n"
     ]
    }
   ],
   "source": [
    "numerical_channel = Input(shape=(input_numLen,))\n",
    "dense = Dense(256, activation='relu')(numerical_channel)\n",
    "dense = Dense(128, activation='relu')(dense)\n",
    "dense = Dense(64, activation='relu')(dense)\n",
    "#dense = Dense(32, activation='relu')(dense)\n",
    "flat1 = Dense(32, activation='relu')(dense)\n",
    "\n",
    "categorical_channel  = Input(shape=(input_catLen,))\n",
    "embedding = Embedding(size_embedding, 36)(categorical_channel)\n",
    "conv1d = Conv1D(filters=32, kernel_size=7, activation='relu')(embedding)\n",
    "dropout = Dropout(0.2)(conv1d)\n",
    "maxpooling1d = MaxPooling1D(pool_size=2)(dropout)\n",
    "flat2 = Flatten()(maxpooling1d)\n",
    "\n",
    "concatlayer = concatenate([flat1, flat2])\n",
    "\n",
    "dense1 = Dense(256, activation='relu')(concatlayer)\n",
    "dense2 = Dense(16, activation='relu')(dense1)\n",
    "outputs = Dense(1, activation='sigmoid')(dense2)\n",
    "model = Model(inputs=[numerical_channel, categorical_channel], outputs=outputs)\n",
    "\n",
    "model.summary()"
   ]
  },
  {
   "cell_type": "code",
   "execution_count": 11,
   "metadata": {},
   "outputs": [],
   "source": [
    "Callbacks = [\n",
    "    tf.keras.callbacks.EarlyStopping(patience=2),\n",
    "    tf.keras.callbacks.ModelCheckpoint(filepath='model.{epoch:02d}-{val_loss:.2f}.h5'),\n",
    "    tf.keras.callbacks.TensorBoard(log_dir='./logs'),\n",
    "]\n",
    "\n",
    "model.compile(loss='binary_crossentropy',\n",
    "              optimizer='adam',\n",
    "              metrics=[tf.keras.metrics.AUC()])"
   ]
  },
  {
   "cell_type": "code",
   "execution_count": 12,
   "metadata": {},
   "outputs": [
    {
     "name": "stdout",
     "output_type": "stream",
     "text": [
      "Epoch 1/20\n",
      "909/909 [==============================] - 4s 5ms/step - loss: 0.0435 - auc: 0.9606 - val_loss: 0.0326 - val_auc: 0.9739\n",
      "Epoch 2/20\n",
      "909/909 [==============================] - 4s 5ms/step - loss: 0.0300 - auc: 0.9796 - val_loss: 0.0301 - val_auc: 0.9782\n",
      "Epoch 3/20\n",
      "909/909 [==============================] - 4s 5ms/step - loss: 0.0281 - auc: 0.9815 - val_loss: 0.0307 - val_auc: 0.9716\n",
      "Epoch 4/20\n",
      "909/909 [==============================] - 4s 5ms/step - loss: 0.0270 - auc: 0.9828 - val_loss: 0.0284 - val_auc: 0.9801\n",
      "Epoch 5/20\n",
      "909/909 [==============================] - 4s 4ms/step - loss: 0.0256 - auc: 0.9856 - val_loss: 0.0279 - val_auc: 0.9808\n",
      "Epoch 6/20\n",
      "909/909 [==============================] - 4s 4ms/step - loss: 0.0246 - auc: 0.9856 - val_loss: 0.0281 - val_auc: 0.9767\n",
      "Epoch 7/20\n",
      "909/909 [==============================] - 4s 5ms/step - loss: 0.0233 - auc: 0.9867 - val_loss: 0.0284 - val_auc: 0.9713\n",
      "time consume: 32.13468360900879\n"
     ]
    }
   ],
   "source": [
    "batch_size = 512\n",
    "st = time.time()\n",
    "model.fit([trn_real, trn_cat.values], ytrain, batch_size=batch_size, verbose=1, epochs=20, validation_split=0.2, callbacks=Callbacks)\n",
    "ed = time.time()\n",
    "print(\"time consume: {}\".format(ed - st))"
   ]
  },
  {
   "cell_type": "code",
   "execution_count": 13,
   "metadata": {},
   "outputs": [
    {
     "name": "stdout",
     "output_type": "stream",
     "text": [
      "1137/1137 [==============================] - 1s 1ms/step\n",
      "[[9.8503378e-08]\n",
      " [1.1539442e-09]\n",
      " [2.8432147e-11]\n",
      " ...\n",
      " [1.0422601e-07]\n",
      " [1.6523907e-09]\n",
      " [5.7469612e-10]]\n"
     ]
    }
   ],
   "source": [
    "ypred = model.predict([tst_real, tst_cat.values], batch_size=batch_size, verbose=1)\n",
    "print(ypred)"
   ]
  },
  {
   "cell_type": "code",
   "execution_count": 14,
   "metadata": {},
   "outputs": [
    {
     "name": "stdout",
     "output_type": "stream",
     "text": [
      "auc score: 0.987884738471527\n"
     ]
    }
   ],
   "source": [
    "print(\"auc score:\", roc_auc_score(ytest,ypred))"
   ]
  },
  {
   "cell_type": "code",
   "execution_count": 15,
   "metadata": {},
   "outputs": [
    {
     "data": {
      "image/png": "[encoded data removed]",
      "text/plain": [
       "<IPython.core.display.Image object>"
      ]
     },
     "execution_count": 15,
     "metadata": {},
     "output_type": "execute_result"
    }
   ],
   "source": [
    "import os\n",
    "dot_img_file = 'model_keras.png'\n",
    "os.environ[\"PATH\"] += os.pathsep +'C:\\Program Files (x86)\\Graphviz2.38\\bin'\n",
    "tf.keras.utils.plot_model(model, to_file=dot_img_file, show_shapes=True)"
   ]
  },
  {
   "cell_type": "code",
   "execution_count": 16,
   "metadata": {
    "scrolled": true
   },
   "outputs": [
    {
     "name": "stdout",
     "output_type": "stream",
     "text": [
      "              precision    recall  f1-score   support\n",
      "\n",
      "           0       0.99      1.00      1.00    572470\n",
      "           1       0.83      0.57      0.67      9227\n",
      "\n",
      "    accuracy                           0.99    581697\n",
      "   macro avg       0.91      0.78      0.83    581697\n",
      "weighted avg       0.99      0.99      0.99    581697\n",
      "\n"
     ]
    }
   ],
   "source": [
    "print(classification_report(ytest, np.round(ypred)))"
   ]
  },
  {
   "cell_type": "code",
   "execution_count": 17,
   "metadata": {},
   "outputs": [],
   "source": [
    "model.save('models/conv1d.h5')"
   ]
  },
  {
   "cell_type": "markdown",
   "metadata": {},
   "source": [
    "### Model 2, Upsampling* add noise (please rerun to ensure the same random state)"
   ]
  },
  {
   "cell_type": "code",
   "execution_count": 18,
   "metadata": {},
   "outputs": [],
   "source": [
    "import warnings\n",
    "import random\n",
    "import pandas as pd\n",
    "import numpy as np\n",
    "import tensorflow as tf\n",
    "from tensorflow.keras.layers import Dense, Activation, Dropout, Flatten, Input\n",
    "from tensorflow.keras.layers import Embedding, Conv1D, MaxPooling1D, GlobalMaxPooling1D, GlobalAveragePooling1D\n",
    "from tensorflow.keras.utils import plot_model\n",
    "from sklearn.preprocessing import StandardScaler\n",
    "from sklearn.model_selection import train_test_split\n",
    "from tensorflow.keras.layers import concatenate\n",
    "from tensorflow.keras.models import Model, Sequential \n",
    "from sklearn.metrics import roc_auc_score\n",
    "from sklearn.metrics import classification_report\n",
    "import tensorflow\n",
    "tensorflow.random.set_seed(2020)\n",
    "np.random.seed(2020)\n",
    "random.seed(2020)\n",
    "warnings.filterwarnings('ignore')\n",
    "pd.set_option('display.max_columns', 150)\n",
    "pd.set_option('display.max_rows', 150)"
   ]
  },
  {
   "cell_type": "code",
   "execution_count": 19,
   "metadata": {},
   "outputs": [],
   "source": [
    "def add_noise(data, columns, target):\n",
    "    noise = data[data[target]==1].copy()\n",
    "    for i in columns:\n",
    "        noise[i] = noise[i] + np.random.uniform(0, 0.005)\n",
    "    return noise"
   ]
  },
  {
   "cell_type": "code",
   "execution_count": 20,
   "metadata": {},
   "outputs": [],
   "source": [
    "data = pd.read_pickle('cleandata/fe_clean1345.pkl')\n",
    "droptime = ['入口日期及时间','出口日期及时间']\n",
    "data.drop(droptime, axis=1, inplace=True)\n",
    "\n",
    "cat_feature = ['入口站编号', '出口站编号', '车型代码', '轴型及轴重', 'entryweek', 'entryday', 'entryhour', 'exitweek', 'exitday', 'exithour']\n",
    "time_feature = ['entryweek', 'entryday', 'entryhour', 'exitweek', 'exitday', 'exithour']\n",
    "base_feature = ['里程', '总轴数', '车货总重', '限重', '超限率', '是否ETC车道代码', '行驶时间', '通过车道的平均速度(km/h)']\n",
    "target = '是否绿色通道车辆代码'\n",
    "real_feature = [i for i in data.columns if i not in cat_feature and i != target and i not in base_feature]"
   ]
  },
  {
   "cell_type": "code",
   "execution_count": 21,
   "metadata": {},
   "outputs": [],
   "source": [
    "X = data[base_feature + cat_feature + real_feature]\n",
    "y = data[target]"
   ]
  },
  {
   "cell_type": "code",
   "execution_count": 22,
   "metadata": {},
   "outputs": [
    {
     "name": "stdout",
     "output_type": "stream",
     "text": [
      "train length: 581696, test length: 581697\n",
      "True length: 9330, False length: 572366\n"
     ]
    }
   ],
   "source": [
    "xtrain, xtest, ytrain, ytest = train_test_split(X, y, test_size=0.5, random_state=2020)\n",
    "print(\"train length: {}, test length: {}\".format(len(xtrain), len(xtest)))\n",
    "print(\"True length: {}, False length: {}\".format(len(ytrain[ytrain == 1]), len(ytrain[ytrain== 0])))"
   ]
  },
  {
   "cell_type": "code",
   "execution_count": 23,
   "metadata": {},
   "outputs": [
    {
     "name": "stdout",
     "output_type": "stream",
     "text": [
      "train length: 600356, test length: 581697\n",
      "True length: 27990, False length: 572366\n"
     ]
    }
   ],
   "source": [
    "# generate noise 1\n",
    "noise_df = xtrain.copy()\n",
    "noise_df[target] = ytrain\n",
    "\n",
    "noise = add_noise(noise_df, columns=real_feature, target=target)\n",
    "xtrain = xtrain.append(noise[base_feature + cat_feature + real_feature])\n",
    "ytrain = ytrain.append(noise[target])\n",
    "\n",
    "# generate noise 2\n",
    "noise = add_noise(data=noise_df, columns=real_feature, target=target)\n",
    "xtrain = xtrain.append(noise[base_feature + cat_feature + real_feature])\n",
    "ytrain = ytrain.append(noise[target])\n",
    "\n",
    "# generate noise 3\n",
    "# noise = add_noise(data=data, columns=real_feature, target=target)\n",
    "# xtrain = xtrain.append(noise[base_feature + cat_feature + real_feature])\n",
    "# ytrain = ytrain.append(noise[target])\n",
    "\n",
    "print(\"train length: {}, test length: {}\".format(len(xtrain), len(xtest)))\n",
    "print(\"True length: {}, False length: {}\".format(len(ytrain[ytrain == 1]), len(ytrain[ytrain== 0])))"
   ]
  },
  {
   "cell_type": "code",
   "execution_count": 24,
   "metadata": {},
   "outputs": [
    {
     "name": "stdout",
     "output_type": "stream",
     "text": [
      "Epoch 1/20\n",
      "939/939 [==============================] - 4s 5ms/step - loss: 0.0424 - auc_1: 0.9613 - val_loss: 0.2029 - val_auc_1: 0.9855\n",
      "Epoch 2/20\n",
      "939/939 [==============================] - 4s 4ms/step - loss: 0.0297 - auc_1: 0.9800 - val_loss: 0.1542 - val_auc_1: 0.9891\n",
      "Epoch 3/20\n",
      "939/939 [==============================] - 4s 4ms/step - loss: 0.0282 - auc_1: 0.9815 - val_loss: 0.1874 - val_auc_1: 0.9856\n",
      "Epoch 4/20\n",
      "939/939 [==============================] - 4s 5ms/step - loss: 0.0267 - auc_1: 0.9833 - val_loss: 0.1851 - val_auc_1: 0.9869\n",
      "Epoch 5/20\n",
      "939/939 [==============================] - 5s 5ms/step - loss: 0.0254 - auc_1: 0.9857 - val_loss: 0.2135 - val_auc_1: 0.9809\n",
      "Epoch 6/20\n",
      "939/939 [==============================] - 4s 5ms/step - loss: 0.0244 - auc_1: 0.9858 - val_loss: 0.1729 - val_auc_1: 0.9869\n",
      "Epoch 7/20\n",
      "939/939 [==============================] - 4s 5ms/step - loss: 0.0232 - auc_1: 0.9877 - val_loss: 0.2092 - val_auc_1: 0.9813\n",
      "Epoch 8/20\n",
      "939/939 [==============================] - 4s 5ms/step - loss: 0.0221 - auc_1: 0.9890 - val_loss: 0.1858 - val_auc_1: 0.9842\n",
      "Epoch 9/20\n",
      "939/939 [==============================] - 4s 5ms/step - loss: 0.0211 - auc_1: 0.9889 - val_loss: 0.1912 - val_auc_1: 0.9780\n",
      "Epoch 10/20\n",
      "939/939 [==============================] - 4s 4ms/step - loss: 0.0199 - auc_1: 0.9907 - val_loss: 0.2059 - val_auc_1: 0.9794\n",
      "1137/1137 [==============================] - 1s 1ms/step\n",
      "[[1.8496310e-08]\n",
      " [4.7791087e-09]\n",
      " [2.8069696e-13]\n",
      " ...\n",
      " [1.2094182e-05]\n",
      " [6.0699713e-12]\n",
      " [2.2591772e-11]]\n",
      "auc score: 0.9890374041710414\n",
      "              precision    recall  f1-score   support\n",
      "\n",
      "           0       0.99      1.00      1.00    572470\n",
      "           1       0.82      0.59      0.69      9227\n",
      "\n",
      "    accuracy                           0.99    581697\n",
      "   macro avg       0.91      0.80      0.84    581697\n",
      "weighted avg       0.99      0.99      0.99    581697\n",
      "\n"
     ]
    }
   ],
   "source": [
    "trn_cat = xtrain[cat_feature]\n",
    "tst_cat = xtest[cat_feature]\n",
    "\n",
    "trn_real = xtrain[base_feature + real_feature]\n",
    "tst_real = xtest[base_feature + real_feature]\n",
    "\n",
    "sds_real = StandardScaler()\n",
    "trn_real = sds_real.fit_transform(trn_real)\n",
    "tst_real = sds_real.transform(tst_real)\n",
    "\n",
    "input_catLen = trn_cat.values.shape[1]\n",
    "input_numLen = trn_real.shape[1]\n",
    "\n",
    "size_embedding = 5000\n",
    "\n",
    "numerical_channel = Input(shape=(input_numLen,))\n",
    "dense = Dense(256, activation='relu')(numerical_channel)\n",
    "dense = Dense(128, activation='relu')(dense)\n",
    "dense = Dense(64, activation='relu')(dense)\n",
    "#dense = Dense(32, activation='relu')(dense)\n",
    "flat1 = Dense(32, activation='relu')(dense)\n",
    "\n",
    "categorical_channel  = Input(shape=(input_catLen,))\n",
    "embedding = Embedding(size_embedding, 36)(categorical_channel)\n",
    "conv1d = Conv1D(filters=32, kernel_size=7, activation='relu')(embedding)\n",
    "dropout = Dropout(0.2)(conv1d)\n",
    "maxpooling1d = MaxPooling1D(pool_size=2)(dropout)\n",
    "flat2 = Flatten()(maxpooling1d)\n",
    "\n",
    "concatlayer = concatenate([flat1, flat2])\n",
    "\n",
    "dense1 = Dense(256, activation='relu')(concatlayer)\n",
    "dense2 = Dense(16, activation='relu')(dense1)\n",
    "outputs = Dense(1, activation='sigmoid')(dense2)\n",
    "model = Model(inputs=[numerical_channel, categorical_channel], outputs=outputs)\n",
    "\n",
    "\n",
    "Callbacks = [\n",
    "    tf.keras.callbacks.EarlyStopping(patience=8),\n",
    "    tf.keras.callbacks.ModelCheckpoint(filepath='model.{epoch:02d}-{val_loss:.2f}.h5'),\n",
    "    tf.keras.callbacks.TensorBoard(log_dir='./logs'),\n",
    "]\n",
    "\n",
    "model.compile(loss='binary_crossentropy',\n",
    "              optimizer='adam',\n",
    "              metrics=[tf.keras.metrics.AUC()])\n",
    "\n",
    "batch_size = 512\n",
    "model.fit([trn_real, trn_cat.values], ytrain, batch_size=batch_size, verbose=1, epochs=20, validation_split=0.2, callbacks=Callbacks)\n",
    "\n",
    "ypred = model.predict([tst_real, tst_cat.values], batch_size=batch_size, verbose=1)\n",
    "print(ypred)\n",
    "print(\"auc score:\", roc_auc_score(ytest,ypred))\n",
    "print(classification_report(ytest, np.round(ypred)))"
   ]
  },
  {
   "cell_type": "code",
   "execution_count": 25,
   "metadata": {},
   "outputs": [],
   "source": [
    "model.save('models/conv1d_upsampling.h5')"
   ]
  },
  {
   "cell_type": "code",
   "execution_count": 26,
   "metadata": {},
   "outputs": [
    {
     "data": {
      "text/plain": [
       "['models/sds_real']"
      ]
     },
     "execution_count": 26,
     "metadata": {},
     "output_type": "execute_result"
    }
   ],
   "source": [
    "from sklearn.externals import joblib\n",
    "joblib.dump(sds_real, 'models/sds_real')"
   ]
  },
  {
   "cell_type": "markdown",
   "metadata": {},
   "source": [
    "### test outliers"
   ]
  },
  {
   "cell_type": "code",
   "execution_count": 27,
   "metadata": {},
   "outputs": [],
   "source": [
    "outliers = pd.read_pickle('outliers/outliers1345.pkl')\n",
    "outliers.drop(droptime, axis=1, inplace=True)\n",
    "\n",
    "outliersX = outliers[base_feature + cat_feature + real_feature]\n",
    "outliersy = outliers[target]\n",
    "\n",
    "outlierstst_cat = outliersX[cat_feature]\n",
    "\n",
    "outlierstst_real = outliersX[base_feature + real_feature]\n",
    "outlierstst_real = sds_real.transform(outlierstst_real)"
   ]
  },
  {
   "cell_type": "code",
   "execution_count": 28,
   "metadata": {},
   "outputs": [
    {
     "name": "stdout",
     "output_type": "stream",
     "text": [
      "37/37 [==============================] - 0s 1ms/step\n",
      "0.04150719637755377\n"
     ]
    }
   ],
   "source": [
    "from sklearn.metrics import accuracy_score\n",
    "outliersypred = model.predict([outlierstst_real, outlierstst_cat.values], batch_size=batch_size, verbose=1)\n",
    "print(accuracy_score(outliersy, np.round(outliersypred)))"
   ]
  },
  {
   "cell_type": "code",
   "execution_count": 29,
   "metadata": {},
   "outputs": [
    {
     "data": {
      "text/plain": [
       "array([[0.],\n",
       "       [0.],\n",
       "       [0.],\n",
       "       ...,\n",
       "       [0.],\n",
       "       [0.],\n",
       "       [0.]], dtype=float32)"
      ]
     },
     "execution_count": 29,
     "metadata": {},
     "output_type": "execute_result"
    }
   ],
   "source": [
    "np.round(outliersypred)"
   ]
  },
  {
   "cell_type": "code",
   "execution_count": 30,
   "metadata": {},
   "outputs": [
    {
     "data": {
      "text/plain": [
       "0       1\n",
       "1       1\n",
       "2       1\n",
       "3       1\n",
       "4       1\n",
       "       ..\n",
       "5267    1\n",
       "5268    1\n",
       "5269    1\n",
       "5270    1\n",
       "5271    1\n",
       "Name: 是否绿色通道车辆代码, Length: 18551, dtype: int64"
      ]
     },
     "execution_count": 30,
     "metadata": {},
     "output_type": "execute_result"
    }
   ],
   "source": [
    "outliersy"
   ]
  },
  {
   "cell_type": "code",
   "execution_count": null,
   "metadata": {},
   "outputs": [],
   "source": []
  },
  {
   "cell_type": "code",
   "execution_count": null,
   "metadata": {},
   "outputs": [],
   "source": []
  },
  {
   "cell_type": "code",
   "execution_count": null,
   "metadata": {},
   "outputs": [],
   "source": []
  },
  {
   "cell_type": "code",
   "execution_count": null,
   "metadata": {},
   "outputs": [],
   "source": []
  }
 ],
 "metadata": {
  "kernelspec": {
   "display_name": "Python 3",
   "language": "python",
   "name": "python3"
  },
  "language_info": {
   "codemirror_mode": {
    "name": "ipython",
    "version": 3
   },
   "file_extension": ".py",
   "mimetype": "text/x-python",
   "name": "python",
   "nbconvert_exporter": "python",
   "pygments_lexer": "ipython3",
   "version": "3.7.6"
  }
 },
 "nbformat": 4,
 "nbformat_minor": 4
}
